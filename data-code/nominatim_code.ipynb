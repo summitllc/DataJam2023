{
 "cells": [
  {
   "cell_type": "code",
   "execution_count": 1,
   "metadata": {},
   "outputs": [],
   "source": [
    "# LOAD PACKAGES\n",
    "import pandas as pd\n",
    "import numpy as np\n",
    "from geopy.geocoders import Nominatim\n",
    "from geopy.extra.rate_limiter import RateLimiter\n",
    "import haversine as hs\n",
    "import requests\n",
    "import json\n",
    "import urllib"
   ]
  },
  {
   "cell_type": "code",
   "execution_count": 2,
   "metadata": {},
   "outputs": [],
   "source": [
    "# User address info (example)\n",
    "STREET = \"777 6TH ST.NW, SUITE 520\"\n",
    "CITY = \"WASHINGTON\"\n",
    "STATE = \"DC\"\n",
    "POSTALCODE = \"20001\"\n",
    "\n",
    "# Read in facility data and filter to user state\n",
    "ft_df = pd.read_csv(\"C:/Users/catherine.sun/OneDrive - Summit, LLC/Documents/Projects/DataJam 2023/Datasets/FindTreatment_Facility_listing_DMV_2023_04_03.csv\")"
   ]
  },
  {
   "cell_type": "code",
   "execution_count": 127,
   "metadata": {},
   "outputs": [],
   "source": [
    "# Define distance_from function which outputs the distance between two coordinates (great circle distance in miles)\n",
    "def distance_from(loc1,loc2): \n",
    "    dist=hs.haversine(loc1, loc2, unit=hs.Unit.MILES)\n",
    "    return round(dist,2)"
   ]
  },
  {
   "cell_type": "code",
   "execution_count": 131,
   "metadata": {},
   "outputs": [],
   "source": [
    "def find_coord(STREET, CITY, STATE, POSTALCODE, RANGE, facility_data):\n",
    "\n",
    "    # Creat dictionary and full address string of user address info\n",
    "    user_dict = {'street' : STREET, 'city' : CITY, 'state' : STATE, 'postalcode' : POSTALCODE}\n",
    "    loc = user_dict['street'] +str(\",\")+ user_dict['city'] +str(\",\")+ user_dict['state'] +str(\",\")+ user_dict['postalcode']\n",
    "    loc = loc.upper()\n",
    "\n",
    "    # Filter facility data to user state\n",
    "    ft_df_filt = facility_data.query('state == @STATE')\n",
    "\n",
    "    # Set Nominatim username\n",
    "    locator = Nominatim(user_agent=\"summit\")\n",
    "\n",
    "    # Geocoding user address\n",
    "    try:\n",
    "        struc_query = locator.geocode(user_dict)\n",
    "        user_dict['latitude'] = struc_query.latitude\n",
    "        user_dict['longitude'] = struc_query.longitude\n",
    "        user_dict['method'] = 'structured'\n",
    "    except:\n",
    "        try:\n",
    "            simple_query = locator.geocode(loc)\n",
    "            user_dict['latitude'] = simple_query.latitude\n",
    "            user_dict['longitude'] = simple_query.longitude\n",
    "            user_dict['method'] = 'simple'\n",
    "        except Exception as err:\n",
    "            return(print(\"Cannot locate address: \" + str(err)))\n",
    "\n",
    "    # Concatenating lat and long to create a consolidated location as accepted by havesine function\n",
    "    user_dict['coor'] = tuple((user_dict['latitude'], user_dict['longitude']))\n",
    "    ft_df_filt['coor'] = list(zip(ft_df_filt.latitude, ft_df_filt.longitude))\n",
    "\n",
    "    # Find distance from user to each facility and filter for facilities within 5 miles (user edits dist range)\n",
    "    ft_df_filt['distance']=ft_df_filt['coor'].apply(lambda x: distance_from(user_dict['coor'],x))\n",
    "    ft_df_sort = ft_df_filt.sort_values('distance').reset_index(drop=True).query('distance <= @RANGE')\n",
    "\n",
    "    # Return data of closest facilities within given range\n",
    "    return(ft_df_sort)"
   ]
  },
  {
   "cell_type": "code",
   "execution_count": 132,
   "metadata": {},
   "outputs": [
    {
     "name": "stdout",
     "output_type": "stream",
     "text": [
      "Cannot locate address: Non-successful status code 502\n"
     ]
    }
   ],
   "source": [
    "find_coord(STREET, CITY, STATE, POSTALCODE, 5, ft_df)"
   ]
  },
  {
   "attachments": {},
   "cell_type": "markdown",
   "metadata": {},
   "source": [
    "Code blocks of each section from function"
   ]
  },
  {
   "cell_type": "code",
   "execution_count": null,
   "metadata": {},
   "outputs": [],
   "source": [
    "user_dict = {'street' : STREET, 'city' : CITY, 'state' : STATE, 'postalcode' : POSTALCODE}\n",
    "loc = user_dict['street'] +str(\",\")+ user_dict['city'] +str(\",\")+ user_dict['state'] +str(\",\")+ user_dict['postalcode']\n",
    "loc = loc.upper()"
   ]
  },
  {
   "cell_type": "code",
   "execution_count": null,
   "metadata": {},
   "outputs": [],
   "source": [
    "# Read in facility data and filter to user state\n",
    "ft_df = pd.read_csv(\"C:/Users/catherine.sun/OneDrive - Summit, LLC/Documents/Projects/DataJam 2023/Datasets/FindTreatment_Facility_listing_DMV_2023_04_03.csv\")\n",
    "ft_df_filt = ft_df.query('state == @STATE')"
   ]
  },
  {
   "cell_type": "code",
   "execution_count": 130,
   "metadata": {},
   "outputs": [
    {
     "name": "stdout",
     "output_type": "stream",
     "text": [
      "Cannot locate address: HTTPSConnectionPool(host='nominatim.openstreetmap.org', port=443): Max retries exceeded with url: /search?q=777+6TH+ST.NW%2C+SUITE+520%2CWASHINGTON%2CDC%2C20001&format=json&limit=1 (Caused by ReadTimeoutError(\"HTTPSConnectionPool(host='nominatim.openstreetmap.org', port=443): Read timed out. (read timeout=1)\"))\n"
     ]
    }
   ],
   "source": [
    "# Set Nominatim username\n",
    "locator = Nominatim(user_agent=\"summit\")\n",
    "\n",
    "# Geocoding user address\n",
    "try:\n",
    "    struc_query = locator.geocode(user_dict)\n",
    "    user_dict['latitude'] = struc_query.latitude\n",
    "    user_dict['longitude'] = struc_query.longitude\n",
    "    user_dict['method'] = 'structured'\n",
    "except:\n",
    "    try:\n",
    "        simple_query = locator.geocode(loc)\n",
    "        user_dict['latitude'] = simple_query.latitude\n",
    "        user_dict['longitude'] = simple_query.longitude\n",
    "        user_dict['method'] = 'simple'\n",
    "    except Exception as err:\n",
    "        print(\"Cannot locate address: \" + str(err))"
   ]
  },
  {
   "cell_type": "code",
   "execution_count": null,
   "metadata": {},
   "outputs": [],
   "source": [
    "# Concatenating lat and long to create a consolidated location as accepted by havesine function\n",
    "user_dict['coor'] = tuple((user_dict['latitude'], user_dict['longitude']))\n",
    "ft_df_filt['coor'] = list(zip(ft_df_filt.latitude, ft_df_filt.longitude))"
   ]
  },
  {
   "cell_type": "code",
   "execution_count": null,
   "metadata": {},
   "outputs": [],
   "source": [
    "# Find distance from user to each facility and filter for facilities within 5 miles (user edits dist range)\n",
    "ft_df_filt['distance']=ft_df_filt['coor'].apply(lambda x: distance_from(user_dict['coor'],x))\n",
    "ft_df_sort = ft_df_filt.sort_values('distance').reset_index(drop=True).query('distance <= 5')"
   ]
  },
  {
   "cell_type": "code",
   "execution_count": null,
   "metadata": {},
   "outputs": [],
   "source": [
    "ft_df_sort[['name','street1','street2','city','state','zip','zip4','county',\n",
    "            'phone','intake_prompt','intake1','intake2','website',\n",
    "            'latitude','longitude','distance','score']]"
   ]
  },
  {
   "cell_type": "code",
   "execution_count": 21,
   "metadata": {},
   "outputs": [
    {
     "data": {
      "text/plain": [
       "'https://geocoding.geo.census.gov/geocoder/locations/address?street=777%206TH%20ST.NW,%20SUITE%20520&city=WASHINGTON&state=DC&zip=20001&benchmark=Public_AR_Current&format=json'"
      ]
     },
     "execution_count": 21,
     "metadata": {},
     "output_type": "execute_result"
    }
   ],
   "source": [
    "url = \"https://geocoding.geo.census.gov/geocoder/locations/address?street={0}&city={1}&state={2}&zip={3}&benchmark=Public_AR_Current&format=json\".format(STREET, CITY, STATE, POSTALCODE)\n",
    "url.replace(\" \",\"%20\")"
   ]
  },
  {
   "cell_type": "code",
   "execution_count": 22,
   "metadata": {},
   "outputs": [],
   "source": [
    "r = requests.get(url)\n",
    "rr = json.loads(r.content)"
   ]
  },
  {
   "cell_type": "code",
   "execution_count": 35,
   "metadata": {},
   "outputs": [
    {
     "data": {
      "text/plain": [
       "{'x': -77.01989552676964, 'y': 38.89940834160424}"
      ]
     },
     "execution_count": 35,
     "metadata": {},
     "output_type": "execute_result"
    }
   ],
   "source": [
    "rr['result']['addressMatches'][0]['coordinates']"
   ]
  }
 ],
 "metadata": {
  "kernelspec": {
   "display_name": "HUD_CC_GL",
   "language": "python",
   "name": "python3"
  },
  "language_info": {
   "codemirror_mode": {
    "name": "ipython",
    "version": 3
   },
   "file_extension": ".py",
   "mimetype": "text/x-python",
   "name": "python",
   "nbconvert_exporter": "python",
   "pygments_lexer": "ipython3",
   "version": "3.10.9"
  },
  "orig_nbformat": 4
 },
 "nbformat": 4,
 "nbformat_minor": 2
}
